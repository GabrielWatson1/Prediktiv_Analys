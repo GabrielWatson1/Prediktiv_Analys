{
 "cells": [
  {
   "cell_type": "markdown",
   "metadata": {},
   "source": [
    "## Inlämningsuppgift Prediktiv Analys"
   ]
  },
  {
   "cell_type": "code",
   "execution_count": 1,
   "metadata": {},
   "outputs": [],
   "source": [
    "import numpy as np\n",
    "import matplotlib.pyplot as plt\n",
    "import pandas as pd\n",
    "import seaborn as sns\n"
   ]
  },
  {
   "cell_type": "markdown",
   "metadata": {},
   "source": [
    "### Import Data / Explore Data"
   ]
  },
  {
   "cell_type": "code",
   "execution_count": 2,
   "metadata": {},
   "outputs": [],
   "source": [
    "data = pd.read_csv('prediktiv_data.csv')"
   ]
  },
  {
   "cell_type": "code",
   "execution_count": 3,
   "metadata": {},
   "outputs": [
    {
     "data": {
      "text/html": [
       "<div>\n",
       "<style scoped>\n",
       "    .dataframe tbody tr th:only-of-type {\n",
       "        vertical-align: middle;\n",
       "    }\n",
       "\n",
       "    .dataframe tbody tr th {\n",
       "        vertical-align: top;\n",
       "    }\n",
       "\n",
       "    .dataframe thead th {\n",
       "        text-align: right;\n",
       "    }\n",
       "</style>\n",
       "<table border=\"1\" class=\"dataframe\">\n",
       "  <thead>\n",
       "    <tr style=\"text-align: right;\">\n",
       "      <th></th>\n",
       "      <th>id</th>\n",
       "      <th>target</th>\n",
       "      <th>feature01</th>\n",
       "      <th>feature02</th>\n",
       "      <th>feature03</th>\n",
       "      <th>feature04</th>\n",
       "      <th>feature05</th>\n",
       "      <th>feature06</th>\n",
       "      <th>feature07</th>\n",
       "      <th>feature08</th>\n",
       "      <th>...</th>\n",
       "      <th>feature14</th>\n",
       "      <th>feature15</th>\n",
       "      <th>feature16</th>\n",
       "      <th>feature17</th>\n",
       "      <th>feature18</th>\n",
       "      <th>feature19</th>\n",
       "      <th>feature20</th>\n",
       "      <th>feature21</th>\n",
       "      <th>feature22</th>\n",
       "      <th>feature23</th>\n",
       "    </tr>\n",
       "  </thead>\n",
       "  <tbody>\n",
       "    <tr>\n",
       "      <th>0</th>\n",
       "      <td>1</td>\n",
       "      <td>215000</td>\n",
       "      <td>2.0</td>\n",
       "      <td>528.0</td>\n",
       "      <td>0</td>\n",
       "      <td>1080.0</td>\n",
       "      <td>1656</td>\n",
       "      <td>7</td>\n",
       "      <td>1656</td>\n",
       "      <td>6</td>\n",
       "      <td>...</td>\n",
       "      <td>2</td>\n",
       "      <td>good</td>\n",
       "      <td>bad</td>\n",
       "      <td>3</td>\n",
       "      <td>1</td>\n",
       "      <td>5</td>\n",
       "      <td>2010</td>\n",
       "      <td>0</td>\n",
       "      <td>0</td>\n",
       "      <td>1960</td>\n",
       "    </tr>\n",
       "    <tr>\n",
       "      <th>1</th>\n",
       "      <td>2</td>\n",
       "      <td>105000</td>\n",
       "      <td>1.0</td>\n",
       "      <td>730.0</td>\n",
       "      <td>0</td>\n",
       "      <td>882.0</td>\n",
       "      <td>896</td>\n",
       "      <td>5</td>\n",
       "      <td>896</td>\n",
       "      <td>5</td>\n",
       "      <td>...</td>\n",
       "      <td>0</td>\n",
       "      <td>NaN</td>\n",
       "      <td>bad</td>\n",
       "      <td>2</td>\n",
       "      <td>1</td>\n",
       "      <td>6</td>\n",
       "      <td>2010</td>\n",
       "      <td>0</td>\n",
       "      <td>0</td>\n",
       "      <td>1961</td>\n",
       "    </tr>\n",
       "    <tr>\n",
       "      <th>2</th>\n",
       "      <td>3</td>\n",
       "      <td>172000</td>\n",
       "      <td>1.0</td>\n",
       "      <td>312.0</td>\n",
       "      <td>0</td>\n",
       "      <td>1329.0</td>\n",
       "      <td>1329</td>\n",
       "      <td>6</td>\n",
       "      <td>1329</td>\n",
       "      <td>6</td>\n",
       "      <td>...</td>\n",
       "      <td>0</td>\n",
       "      <td>NaN</td>\n",
       "      <td>good</td>\n",
       "      <td>3</td>\n",
       "      <td>1</td>\n",
       "      <td>6</td>\n",
       "      <td>2010</td>\n",
       "      <td>1</td>\n",
       "      <td>0</td>\n",
       "      <td>1958</td>\n",
       "    </tr>\n",
       "    <tr>\n",
       "      <th>3</th>\n",
       "      <td>4</td>\n",
       "      <td>244000</td>\n",
       "      <td>2.0</td>\n",
       "      <td>522.0</td>\n",
       "      <td>0</td>\n",
       "      <td>2110.0</td>\n",
       "      <td>2110</td>\n",
       "      <td>8</td>\n",
       "      <td>2110</td>\n",
       "      <td>7</td>\n",
       "      <td>...</td>\n",
       "      <td>2</td>\n",
       "      <td>bad</td>\n",
       "      <td>amazing</td>\n",
       "      <td>3</td>\n",
       "      <td>1</td>\n",
       "      <td>4</td>\n",
       "      <td>2010</td>\n",
       "      <td>1</td>\n",
       "      <td>0</td>\n",
       "      <td>1968</td>\n",
       "    </tr>\n",
       "    <tr>\n",
       "      <th>4</th>\n",
       "      <td>5</td>\n",
       "      <td>189900</td>\n",
       "      <td>2.0</td>\n",
       "      <td>482.0</td>\n",
       "      <td>0</td>\n",
       "      <td>928.0</td>\n",
       "      <td>928</td>\n",
       "      <td>6</td>\n",
       "      <td>1629</td>\n",
       "      <td>5</td>\n",
       "      <td>...</td>\n",
       "      <td>1</td>\n",
       "      <td>bad</td>\n",
       "      <td>bad</td>\n",
       "      <td>3</td>\n",
       "      <td>1</td>\n",
       "      <td>3</td>\n",
       "      <td>2010</td>\n",
       "      <td>1</td>\n",
       "      <td>701</td>\n",
       "      <td>1998</td>\n",
       "    </tr>\n",
       "  </tbody>\n",
       "</table>\n",
       "<p>5 rows × 26 columns</p>\n",
       "</div>"
      ],
      "text/plain": [
       "   id  target  feature01  feature02  feature03  feature04  feature05  \\\n",
       "0   1  215000        2.0      528.0          0     1080.0       1656   \n",
       "1   2  105000        1.0      730.0          0      882.0        896   \n",
       "2   3  172000        1.0      312.0          0     1329.0       1329   \n",
       "3   4  244000        2.0      522.0          0     2110.0       2110   \n",
       "4   5  189900        2.0      482.0          0      928.0        928   \n",
       "\n",
       "   feature06  feature07  feature08  ...  feature14  feature15  feature16  \\\n",
       "0          7       1656          6  ...          2       good        bad   \n",
       "1          5        896          5  ...          0        NaN        bad   \n",
       "2          6       1329          6  ...          0        NaN       good   \n",
       "3          8       2110          7  ...          2        bad    amazing   \n",
       "4          6       1629          5  ...          1        bad        bad   \n",
       "\n",
       "  feature17 feature18 feature19  feature20 feature21 feature22  feature23  \n",
       "0         3         1         5       2010         0         0       1960  \n",
       "1         2         1         6       2010         0         0       1961  \n",
       "2         3         1         6       2010         1         0       1958  \n",
       "3         3         1         4       2010         1         0       1968  \n",
       "4         3         1         3       2010         1       701       1998  \n",
       "\n",
       "[5 rows x 26 columns]"
      ]
     },
     "execution_count": 3,
     "metadata": {},
     "output_type": "execute_result"
    }
   ],
   "source": [
    "data.head()"
   ]
  },
  {
   "cell_type": "code",
   "execution_count": 5,
   "metadata": {},
   "outputs": [
    {
     "data": {
      "image/png": "[encoded data removed]",
      "text/plain": [
       "<Figure size 432x288 with 1 Axes>"
      ]
     },
     "metadata": {
      "needs_background": "light"
     },
     "output_type": "display_data"
    }
   ],
   "source": [
    "x = data['target']\n",
    "y = data['target']\n",
    "plt.scatter(x,y);"
   ]
  },
  {
   "cell_type": "code",
   "execution_count": 6,
   "metadata": {},
   "outputs": [
    {
     "data": {
      "image/png": "[encoded data removed]",
      "text/plain": [
       "<Figure size 432x288 with 1 Axes>"
      ]
     },
     "metadata": {
      "needs_background": "light"
     },
     "output_type": "display_data"
    }
   ],
   "source": [
    "data['target'].hist(edgecolor = 'Black', bins=25);"
   ]
  },
  {
   "cell_type": "code",
   "execution_count": 7,
   "metadata": {},
   "outputs": [
    {
     "name": "stdout",
     "output_type": "stream",
     "text": [
      "feature01       1\n",
      "feature02       1\n",
      "feature04       1\n",
      "feature11    2732\n",
      "feature12    2358\n",
      "feature13       1\n",
      "feature15    1422\n",
      "dtype: int64\n"
     ]
    }
   ],
   "source": [
    "#shows all the columns that have got more than 0 NA values \n",
    "nan_per_col = data.isna().sum()\n",
    "missing_values = nan_per_col[nan_per_col>0]\n",
    "print(missing_values)\n",
    "# feature 11,12,15 have the greatest amount of nan values so we will be dropping these columns\n"
   ]
  },
  {
   "cell_type": "code",
   "execution_count": 463,
   "metadata": {},
   "outputs": [
    {
     "name": "stdout",
     "output_type": "stream",
     "text": [
      "feature01     0.034176\n",
      "feature02     0.034176\n",
      "feature04     0.034176\n",
      "feature11    93.369788\n",
      "feature12    80.587833\n",
      "feature13     0.034176\n",
      "feature15    48.598770\n",
      "dtype: float64\n"
     ]
    }
   ],
   "source": [
    "#find the percentage of na values that each feature with nan values has\n",
    "percentage_nan = (missing_values / len(data) * 100)\n",
    "print(percentage_nan)"
   ]
  },
  {
   "cell_type": "markdown",
   "metadata": {},
   "source": [
    "### Drop NA Values and Create Dummy Variables"
   ]
  },
  {
   "cell_type": "code",
   "execution_count": 8,
   "metadata": {},
   "outputs": [],
   "source": [
    "# remove columns with a lot of the nan values\n",
    "col_to_remove = ['feature11', 'feature12', 'feature15']\n",
    "data.drop(col_to_remove, axis=1, inplace= True)"
   ]
  },
  {
   "cell_type": "code",
   "execution_count": 263,
   "metadata": {},
   "outputs": [],
   "source": [
    "# replace the NAN values with the mean of the respective columns \n",
    "data[['feature01','feature02', 'feature04']] = data[['feature01','feature02', 'feature04']].fillna(data[['feature01','feature02', 'feature04']].mean())"
   ]
  },
  {
   "cell_type": "code",
   "execution_count": 279,
   "metadata": {},
   "outputs": [
    {
     "data": {
      "text/html": [
       "<div>\n",
       "<style scoped>\n",
       "    .dataframe tbody tr th:only-of-type {\n",
       "        vertical-align: middle;\n",
       "    }\n",
       "\n",
       "    .dataframe tbody tr th {\n",
       "        vertical-align: top;\n",
       "    }\n",
       "\n",
       "    .dataframe thead th {\n",
       "        text-align: right;\n",
       "    }\n",
       "</style>\n",
       "<table border=\"1\" class=\"dataframe\">\n",
       "  <thead>\n",
       "    <tr style=\"text-align: right;\">\n",
       "      <th></th>\n",
       "      <th>id</th>\n",
       "      <th>target</th>\n",
       "      <th>feature01</th>\n",
       "      <th>feature02</th>\n",
       "      <th>feature03</th>\n",
       "      <th>feature04</th>\n",
       "      <th>feature05</th>\n",
       "      <th>feature06</th>\n",
       "      <th>feature07</th>\n",
       "      <th>feature08</th>\n",
       "      <th>...</th>\n",
       "      <th>feature22</th>\n",
       "      <th>feature23</th>\n",
       "      <th>red</th>\n",
       "      <th>blue</th>\n",
       "      <th>green</th>\n",
       "      <th>yellow</th>\n",
       "      <th>bad</th>\n",
       "      <th>good</th>\n",
       "      <th>amazing</th>\n",
       "      <th>okay</th>\n",
       "    </tr>\n",
       "  </thead>\n",
       "  <tbody>\n",
       "    <tr>\n",
       "      <th>0</th>\n",
       "      <td>1</td>\n",
       "      <td>215000</td>\n",
       "      <td>2.0</td>\n",
       "      <td>528.0</td>\n",
       "      <td>0</td>\n",
       "      <td>1080.0</td>\n",
       "      <td>1656</td>\n",
       "      <td>7</td>\n",
       "      <td>1656</td>\n",
       "      <td>6</td>\n",
       "      <td>...</td>\n",
       "      <td>0</td>\n",
       "      <td>1960</td>\n",
       "      <td>0</td>\n",
       "      <td>0</td>\n",
       "      <td>0</td>\n",
       "      <td>0</td>\n",
       "      <td>0</td>\n",
       "      <td>0</td>\n",
       "      <td>0</td>\n",
       "      <td>0</td>\n",
       "    </tr>\n",
       "    <tr>\n",
       "      <th>1</th>\n",
       "      <td>2</td>\n",
       "      <td>105000</td>\n",
       "      <td>1.0</td>\n",
       "      <td>730.0</td>\n",
       "      <td>0</td>\n",
       "      <td>882.0</td>\n",
       "      <td>896</td>\n",
       "      <td>5</td>\n",
       "      <td>896</td>\n",
       "      <td>5</td>\n",
       "      <td>...</td>\n",
       "      <td>0</td>\n",
       "      <td>1961</td>\n",
       "      <td>0</td>\n",
       "      <td>0</td>\n",
       "      <td>0</td>\n",
       "      <td>0</td>\n",
       "      <td>0</td>\n",
       "      <td>0</td>\n",
       "      <td>0</td>\n",
       "      <td>0</td>\n",
       "    </tr>\n",
       "    <tr>\n",
       "      <th>2</th>\n",
       "      <td>3</td>\n",
       "      <td>172000</td>\n",
       "      <td>1.0</td>\n",
       "      <td>312.0</td>\n",
       "      <td>0</td>\n",
       "      <td>1329.0</td>\n",
       "      <td>1329</td>\n",
       "      <td>6</td>\n",
       "      <td>1329</td>\n",
       "      <td>6</td>\n",
       "      <td>...</td>\n",
       "      <td>0</td>\n",
       "      <td>1958</td>\n",
       "      <td>0</td>\n",
       "      <td>0</td>\n",
       "      <td>0</td>\n",
       "      <td>0</td>\n",
       "      <td>0</td>\n",
       "      <td>0</td>\n",
       "      <td>0</td>\n",
       "      <td>0</td>\n",
       "    </tr>\n",
       "    <tr>\n",
       "      <th>3</th>\n",
       "      <td>4</td>\n",
       "      <td>244000</td>\n",
       "      <td>2.0</td>\n",
       "      <td>522.0</td>\n",
       "      <td>0</td>\n",
       "      <td>2110.0</td>\n",
       "      <td>2110</td>\n",
       "      <td>8</td>\n",
       "      <td>2110</td>\n",
       "      <td>7</td>\n",
       "      <td>...</td>\n",
       "      <td>0</td>\n",
       "      <td>1968</td>\n",
       "      <td>0</td>\n",
       "      <td>0</td>\n",
       "      <td>0</td>\n",
       "      <td>0</td>\n",
       "      <td>0</td>\n",
       "      <td>0</td>\n",
       "      <td>0</td>\n",
       "      <td>0</td>\n",
       "    </tr>\n",
       "    <tr>\n",
       "      <th>4</th>\n",
       "      <td>5</td>\n",
       "      <td>189900</td>\n",
       "      <td>2.0</td>\n",
       "      <td>482.0</td>\n",
       "      <td>0</td>\n",
       "      <td>928.0</td>\n",
       "      <td>928</td>\n",
       "      <td>6</td>\n",
       "      <td>1629</td>\n",
       "      <td>5</td>\n",
       "      <td>...</td>\n",
       "      <td>701</td>\n",
       "      <td>1998</td>\n",
       "      <td>0</td>\n",
       "      <td>0</td>\n",
       "      <td>0</td>\n",
       "      <td>0</td>\n",
       "      <td>0</td>\n",
       "      <td>0</td>\n",
       "      <td>0</td>\n",
       "      <td>0</td>\n",
       "    </tr>\n",
       "  </tbody>\n",
       "</table>\n",
       "<p>5 rows × 31 columns</p>\n",
       "</div>"
      ],
      "text/plain": [
       "   id  target  feature01  feature02  feature03  feature04  feature05  \\\n",
       "0   1  215000        2.0      528.0          0     1080.0       1656   \n",
       "1   2  105000        1.0      730.0          0      882.0        896   \n",
       "2   3  172000        1.0      312.0          0     1329.0       1329   \n",
       "3   4  244000        2.0      522.0          0     2110.0       2110   \n",
       "4   5  189900        2.0      482.0          0      928.0        928   \n",
       "\n",
       "   feature06  feature07  feature08  ...  feature22  feature23  red blue  \\\n",
       "0          7       1656          6  ...          0       1960    0    0   \n",
       "1          5        896          5  ...          0       1961    0    0   \n",
       "2          6       1329          6  ...          0       1958    0    0   \n",
       "3          8       2110          7  ...          0       1968    0    0   \n",
       "4          6       1629          5  ...        701       1998    0    0   \n",
       "\n",
       "   green yellow  bad  good  amazing  okay  \n",
       "0      0      0    0     0        0     0  \n",
       "1      0      0    0     0        0     0  \n",
       "2      0      0    0     0        0     0  \n",
       "3      0      0    0     0        0     0  \n",
       "4      0      0    0     0        0     0  \n",
       "\n",
       "[5 rows x 31 columns]"
      ]
     },
     "execution_count": 279,
     "metadata": {},
     "output_type": "execute_result"
    }
   ],
   "source": [
    "# Create dummy variables\n",
    "# == return True or False and astype('int') coverts to 1 for True and 0 for False\n",
    "# create dummy varaible for feature13\n",
    "data['red'] = (data['feature13'] == 1).astype('int')\n",
    "data['blue'] = (data['feature13'] == 2).astype('int')\n",
    "data['green'] = (data['feature13'] == 3).astype('int')\n",
    "data['yellow'] = (data['feature13']== 4).astype('int')\n",
    "# we leave one colour out k-1 as other wise we will \n",
    "# get multicollonearity and the model will be worse\n",
    "\n",
    "#creaing dummy variables for feature16\n",
    "data['bad'] = (data['feature16'] == 1).astype('int')\n",
    "data['good'] = (data['feature16'] == 2).astype('int')\n",
    "data['amazing'] = (data['feature16'] == 3).astype('int')\n",
    "data['okay'] = (data['feature16']== 4).astype('int')\n",
    "# the same applies to feature16\n",
    "\n",
    "data.head()"
   ]
  },
  {
   "cell_type": "markdown",
   "metadata": {},
   "source": [
    "### Linear Regression"
   ]
  },
  {
   "cell_type": "code",
   "execution_count": 402,
   "metadata": {},
   "outputs": [],
   "source": [
    "from sklearn.linear_model import LinearRegression\n",
    "from sklearn.model_selection import train_test_split\n",
    "from sklearn.preprocessing import RobustScaler\n"
   ]
  },
  {
   "cell_type": "code",
   "execution_count": 409,
   "metadata": {},
   "outputs": [],
   "source": [
    "# deterime the x(feature_names)\n",
    "feature_names = {'feature01', 'feature02', 'feature03', 'feature04','feature05','feature06','feature07', 'feature08', \n",
    "                'feature09','feature10', 'feature10.1', 'feature14', 'feature17', 'feature18', 'feature19',\n",
    "                'feature20', 'feature21', 'feature22', 'feature23', 'red', 'blue', 'green', 'yellow',\n",
    "                'bad', 'good', 'amazing', 'okay'} \n",
    "target_name = 'target'\n",
    "robust_scaler = RobustScaler()\n",
    "x = data[feature_names]\n",
    "x = robust_scaler.fit_transform(x)\n",
    "y = data[target_name]"
   ]
  },
  {
   "cell_type": "code",
   "execution_count": 417,
   "metadata": {},
   "outputs": [],
   "source": [
    "from sklearn.model_selection import train_test_split\n",
    "x_train, x_test, y_train, y_test = train_test_split(x, y, test_size= 0.25, random_state= 120)"
   ]
  },
  {
   "cell_type": "code",
   "execution_count": 418,
   "metadata": {},
   "outputs": [],
   "source": [
    "#create and instance of the model\n",
    "from sklearn.linear_model import LinearRegression\n",
    "linear_regression_model = LinearRegression()"
   ]
  },
  {
   "cell_type": "code",
   "execution_count": 419,
   "metadata": {},
   "outputs": [
    {
     "data": {
      "text/plain": [
       "LinearRegression()"
      ]
     },
     "execution_count": 419,
     "metadata": {},
     "output_type": "execute_result"
    }
   ],
   "source": [
    "#train model \n",
    "linear_regression_model.fit(x_train,y_train)"
   ]
  },
  {
   "cell_type": "markdown",
   "metadata": {},
   "source": [
    "### Utvärdering av modellen"
   ]
  },
  {
   "cell_type": "markdown",
   "metadata": {},
   "source": [
    "#### Root Mean Square Error"
   ]
  },
  {
   "cell_type": "code",
   "execution_count": 440,
   "metadata": {},
   "outputs": [
    {
     "name": "stdout",
     "output_type": "stream",
     "text": [
      "The root mean sqaured error of this model is:  31390.598015510088\n"
     ]
    }
   ],
   "source": [
    "from sklearn.metrics import mean_squared_error\n",
    "# get the predictions of the model for the data it has not seen (testing)\n",
    "y_pred_test = linear_regression_model.predict(x_test)\n",
    "# all metrics compare in some way how close are the predition vs actual values\n",
    "error_metric = mean_squared_error(y_pred= y_pred_test, y_true= y_test, squared=False)\n",
    "print('The root mean sqaured error of this model is: ', error_metric)"
   ]
  },
  {
   "cell_type": "code",
   "execution_count": 444,
   "metadata": {},
   "outputs": [
    {
     "data": {
      "image/png": "[encoded data removed]",
      "text/plain": [
       "<Figure size 1296x648 with 1 Axes>"
      ]
     },
     "metadata": {},
     "output_type": "display_data"
    }
   ],
   "source": [
    "fig, ax = plt.subplots(figsize=(18, 9))\n",
    "ax.scatter(y_pred_test, y_test)\n",
    "ax.plot(y_test, y_test, color = 'red')\n",
    "fig.patch.set_facecolor('white')\n",
    "fig.patch.set_alpha(1.0)\n",
    "ax.set_ylabel('Observed target values', fontweight='bold')\n",
    "ax.set_xlabel('Predicted target values', fontweight='bold')\n",
    "ax.set_title('Predicting VS actual values', fontweight = 'bold')\n",
    "plt.grid()"
   ]
  },
  {
   "cell_type": "markdown",
   "metadata": {},
   "source": [
    "##### R2 model "
   ]
  },
  {
   "cell_type": "code",
   "execution_count": 439,
   "metadata": {},
   "outputs": [
    {
     "data": {
      "text/plain": [
       "0.8334414703082087"
      ]
     },
     "execution_count": 439,
     "metadata": {},
     "output_type": "execute_result"
    }
   ],
   "source": [
    "# R2 model The higher the R2 value is to 1.0 the better the model is. \n",
    "from sklearn.metrics import r2_score\n",
    "\n",
    "r2_score(y_true= y_test, y_pred= y_pred_test)\n"
   ]
  }
 ],
 "metadata": {
  "interpreter": {
   "hash": "6245bcea59073d1dc114fc8489cf0d53b4dc44df4ad537f02e44c1d0050d8e6a"
  },
  "kernelspec": {
   "display_name": "Python 3.9.7 ('test_env')",
   "language": "python",
   "name": "python3"
  },
  "language_info": {
   "codemirror_mode": {
    "name": "ipython",
    "version": 3
   },
   "file_extension": ".py",
   "mimetype": "text/x-python",
   "name": "python",
   "nbconvert_exporter": "python",
   "pygments_lexer": "ipython3",
   "version": "3.9.7"
  },
  "orig_nbformat": 4
 },
 "nbformat": 4,
 "nbformat_minor": 2
}
